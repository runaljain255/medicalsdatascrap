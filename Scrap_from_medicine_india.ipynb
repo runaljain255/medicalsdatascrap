{
 "cells": [
  {
   "cell_type": "code",
   "execution_count": 1,
   "id": "763d8b7e",
   "metadata": {},
   "outputs": [],
   "source": [
    "from selenium import webdriver\n",
    "from selenium.webdriver.chrome.options import Options\n",
    "import pandas as pd\n",
    "import json"
   ]
  },
  {
   "cell_type": "code",
   "execution_count": 2,
   "id": "006db3f0",
   "metadata": {},
   "outputs": [],
   "source": [
    "options = Options()\n",
    "options.headless = True\n",
    "driver = webdriver.Chrome(r'C:\\Users\\win10\\Documents\\Untitled Folder 1\\chromedriver.exe',options=options)\n",
    "driver.get('https://www.medicineindia.org/pharmacies-chemists-drugstores-in-india')\n",
    "elems = driver.find_elements_by_css_selector('#main > div.row > div > a')\n",
    "links = [elem.get_attribute('href') for elem in elems]"
   ]
  },
  {
   "cell_type": "code",
   "execution_count": 3,
   "id": "bcdb1925",
   "metadata": {
    "scrolled": false
   },
   "outputs": [],
   "source": [
    "data={}\n",
    "for link in links:\n",
    "    dname = link.split('/')[-1]\n",
    "    driver.get(link)\n",
    "    table = driver.find_element_by_xpath('//*[@id=\"main\"]/div[2]/table/tbody[2]')\n",
    "    rows = table.find_elements_by_css_selector('tr')\n",
    "    arr = []\n",
    "    storelink=[]\n",
    "    for row in rows:\n",
    "        storelink.append(row.find_element_by_css_selector('td:nth-of-type(1) > a').get_attribute('href'))\n",
    "    if len(storelink)>0:\n",
    "        for store in storelink:\n",
    "            d={}\n",
    "            driver.get(store)\n",
    "            d['Medical Store Name']=driver.find_element_by_xpath('//*[@id=\"main\"]/div[2]/dl/dd[1]').text\n",
    "            d['Address']=driver.find_element_by_xpath('//*[@id=\"main\"]/div[2]/dl/div/dd[1]').text\n",
    "            d['Pin']=driver.find_element_by_xpath('//*[@id=\"main\"]/div[2]/dl/div/dd[3]/a').text\n",
    "            d['Phone Number']=driver.find_element_by_xpath('//*[@id=\"main\"]/div[2]/dl/dd[2]').text\n",
    "            arr.append(d)\n",
    "    if(len(arr)>0):\n",
    "        data[dname]=arr\n",
    "    break\n",
    "    "
   ]
  },
  {
   "cell_type": "code",
   "execution_count": 4,
   "id": "d284ae90",
   "metadata": {},
   "outputs": [],
   "source": [
    "json_object = json.dumps(data, indent = 4)  "
   ]
  },
  {
   "cell_type": "code",
   "execution_count": 5,
   "id": "71dc46c7",
   "metadata": {},
   "outputs": [],
   "source": [
    "with open(\"sample.json\", \"w\") as outfile:\n",
    "    outfile.write(json_object)"
   ]
  },
  {
   "cell_type": "code",
   "execution_count": null,
   "id": "cb0c4dfc",
   "metadata": {},
   "outputs": [],
   "source": []
  }
 ],
 "metadata": {
  "kernelspec": {
   "display_name": "Python 3",
   "language": "python",
   "name": "python3"
  },
  "language_info": {
   "codemirror_mode": {
    "name": "ipython",
    "version": 3
   },
   "file_extension": ".py",
   "mimetype": "text/x-python",
   "name": "python",
   "nbconvert_exporter": "python",
   "pygments_lexer": "ipython3",
   "version": "3.8.8"
  }
 },
 "nbformat": 4,
 "nbformat_minor": 5
}
